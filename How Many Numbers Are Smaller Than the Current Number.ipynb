{
 "cells": [
  {
   "cell_type": "code",
   "execution_count": 11,
   "metadata": {},
   "outputs": [],
   "source": [
    "nums = [8,1,2,2,3]\n",
    "count_list=[]\n"
   ]
  },
  {
   "cell_type": "code",
   "execution_count": 18,
   "metadata": {},
   "outputs": [
    {
     "name": "stdout",
     "output_type": "stream",
     "text": [
      "0 1 8 1\n",
      "0 2 8 2\n",
      "0 2 8 3\n",
      "0 3 8 4\n",
      "2 1 2 1\n",
      "3 1 2 1\n",
      "4 1 3 1\n",
      "4 2 3 2\n",
      "4 2 3 3\n"
     ]
    }
   ],
   "source": [
    "class Solution:\n",
    "    def smallerNumbersThanCurrent(self, nums: List[int]) -> List[int]:\n",
    "        arr = nums\n",
    "        nums = sorted(nums)\n",
    "        hm = {}\n",
    "        for i in range(len(nums)):\n",
    "            if nums[i] not in hm:\n",
    "                hm[nums[i]] = i\n",
    "        res = [0] * len(nums)\n",
    "        for i in range(len(nums)):res[i] = hm[arr[i]]\n",
    "        return res"
   ]
  },
  {
   "cell_type": "code",
   "execution_count": null,
   "metadata": {},
   "outputs": [],
   "source": []
  },
  {
   "cell_type": "code",
   "execution_count": null,
   "metadata": {},
   "outputs": [],
   "source": []
  }
 ],
 "metadata": {
  "kernelspec": {
   "display_name": "Python 3",
   "language": "python",
   "name": "python3"
  },
  "language_info": {
   "codemirror_mode": {
    "name": "ipython",
    "version": 3
   },
   "file_extension": ".py",
   "mimetype": "text/x-python",
   "name": "python",
   "nbconvert_exporter": "python",
   "pygments_lexer": "ipython3",
   "version": "3.8.3"
  }
 },
 "nbformat": 4,
 "nbformat_minor": 4
}
