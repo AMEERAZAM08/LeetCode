{
 "cells": [
  {
   "cell_type": "raw",
   "metadata": {},
   "source": [
    "https://assets.leetcode.com/uploads/2020/11/05/bst1.jpg"
   ]
  },
  {
   "cell_type": "code",
   "execution_count": 5,
   "metadata": {},
   "outputs": [],
   "source": [
    "# Definition for a binary tree node.\n",
    "class TreeNode:\n",
    "    def __init__(self, val=0, left=None, right=None):\n",
    "        self.val = val\n",
    "        self.left = left\n",
    "        self.right = right\n",
    "def rangeSumBST(self, root: TreeNode, low: int, high: int) -> int:\n",
    "    if not root.left and root.right:\n",
    "        if root.val <= high and root.val >= low:\n",
    "            return root.val\n",
    "        else:\n",
    "            return 0\n",
    "        \n",
    "        # initialize the value by assigning the value of the root\n",
    "    if root.val <= high and root.val >= low:\n",
    "        value = root.val\n",
    "    else:\n",
    "        value = 0\n",
    "        \n",
    "    if root.left:\n",
    "        value += self.rangeSumBST(root.left, low, high)\n",
    "        \n",
    "    if root.right:\n",
    "        value += self.rangeSumBST(root.right, low, high)\n",
    "        \n",
    "    return value\n",
    "                     "
   ]
  },
  {
   "cell_type": "code",
   "execution_count": null,
   "metadata": {},
   "outputs": [],
   "source": []
  }
 ],
 "metadata": {
  "kernelspec": {
   "display_name": "Python 3",
   "language": "python",
   "name": "python3"
  },
  "language_info": {
   "codemirror_mode": {
    "name": "ipython",
    "version": 3
   },
   "file_extension": ".py",
   "mimetype": "text/x-python",
   "name": "python",
   "nbconvert_exporter": "python",
   "pygments_lexer": "ipython3",
   "version": "3.8.3"
  }
 },
 "nbformat": 4,
 "nbformat_minor": 4
}
