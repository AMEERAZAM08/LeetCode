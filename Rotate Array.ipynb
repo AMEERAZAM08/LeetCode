{
 "cells": [
  {
   "cell_type": "code",
   "execution_count": 4,
   "metadata": {},
   "outputs": [],
   "source": [
    "if k >= len(nums):\n",
    "            k = k % len(nums)\n",
    "        \n",
    "        # no rotation needs to be done\n",
    "        if k == 0:\n",
    "            return nums\n",
    "        \n",
    "        # rotate\n",
    "        j = k\n",
    "        prev = nums[0]\n",
    "        num_shifts = 0\n",
    "        first_touched = 0\n",
    "        while num_shifts < len(nums):\n",
    "            t = nums[j]\n",
    "            nums[j] = prev\n",
    "            prev = t\n",
    "            # handle the case where we wrap around and hit an already-rotated index\n",
    "            # note that this will be the smallest already-rotated index if it occurs\n",
    "            if j == first_touched:\n",
    "                first_touched = first_touched + 1\n",
    "                prev = nums[first_touched]\n",
    "                j = first_touched + k\n",
    "            else:\n",
    "                j = (j + k) % len(nums)\n",
    "            num_shifts += 1\n",
    "                \n",
    "        return nums"
   ]
  },
  {
   "cell_type": "code",
   "execution_count": 6,
   "metadata": {},
   "outputs": [
    {
     "data": {
      "text/plain": [
       "([1, 2, 3, 4, 5, 6, 7],)"
      ]
     },
     "execution_count": 6,
     "metadata": {},
     "output_type": "execute_result"
    }
   ],
   "source": []
  },
  {
   "cell_type": "code",
   "execution_count": null,
   "metadata": {},
   "outputs": [],
   "source": []
  }
 ],
 "metadata": {
  "kernelspec": {
   "display_name": "Python 3",
   "language": "python",
   "name": "python3"
  },
  "language_info": {
   "codemirror_mode": {
    "name": "ipython",
    "version": 3
   },
   "file_extension": ".py",
   "mimetype": "text/x-python",
   "name": "python",
   "nbconvert_exporter": "python",
   "pygments_lexer": "ipython3",
   "version": "3.8.3"
  }
 },
 "nbformat": 4,
 "nbformat_minor": 4
}
