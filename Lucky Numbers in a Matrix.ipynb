{
 "cells": [
  {
   "cell_type": "code",
   "execution_count": 101,
   "metadata": {},
   "outputs": [],
   "source": [
    "matrix = [[3,7,8],[9,11,13],[15,16,17]]\n"
   ]
  },
  {
   "cell_type": "code",
   "execution_count": 111,
   "metadata": {},
   "outputs": [
    {
     "name": "stdout",
     "output_type": "stream",
     "text": [
      "{9, 3, 15}\n"
     ]
    },
    {
     "data": {
      "text/plain": [
       "[15]"
      ]
     },
     "execution_count": 111,
     "metadata": {},
     "output_type": "execute_result"
    }
   ],
   "source": [
    "m=len(matrix)\n",
    "n=len(matrix[0])\n",
    "#min-> row\n",
    "min_row=[]\n",
    "#max->column\n",
    "max_col=[]\n",
    "for i in range(m):\n",
    "    for j in range(n):\n",
    "        \n",
    "        min_row.append(min(matrix[i]))\n",
    "print(set(min_row))\n",
    "for i in range(n):\n",
    "    data=-1\n",
    "    for j in range(m):\n",
    "        if data <= matrix[j][i]:\n",
    "            data= matrix[j][i]\n",
    "        \n",
    "            #print(matrix[j][i])\n",
    "    max_col.append(data)\n",
    "set(max_col)\n",
    "list(set(max_col).intersection(min_row))"
   ]
  },
  {
   "cell_type": "code",
   "execution_count": null,
   "metadata": {},
   "outputs": [],
   "source": [
    "class Solution:\n",
    "    def luckyNumbers (self, matrix: List[List[int]]) -> List[int]:\n",
    "        m=len(matrix)\n",
    "        n=len(matrix[0])\n",
    "        #min-> row\n",
    "        min_row=[]\n",
    "        #max->column\n",
    "        max_col=[]\n",
    "        for i in range(m):\n",
    "            for j in range(n):\n",
    "        \n",
    "                min_row.append(min(matrix[i]))\n",
    "        #print(set(min_row))\n",
    "        for i in range(n):\n",
    "            data=-1\n",
    "            for j in range(m):\n",
    "                if data <= matrix[j][i]:\n",
    "                    data= matrix[j][i]\n",
    "        \n",
    "            #print(matrix[j][i])\n",
    "            max_col.append(data)\n",
    "        set(max_col)    \n",
    "        return list(set(max_col).intersection(min_row))"
   ]
  },
  {
   "cell_type": "code",
   "execution_count": 110,
   "metadata": {},
   "outputs": [
    {
     "data": {
      "text/plain": [
       "[15]"
      ]
     },
     "execution_count": 110,
     "metadata": {},
     "output_type": "execute_result"
    }
   ],
   "source": []
  },
  {
   "cell_type": "code",
   "execution_count": null,
   "metadata": {},
   "outputs": [],
   "source": []
  }
 ],
 "metadata": {
  "kernelspec": {
   "display_name": "Python 3",
   "language": "python",
   "name": "python3"
  },
  "language_info": {
   "codemirror_mode": {
    "name": "ipython",
    "version": 3
   },
   "file_extension": ".py",
   "mimetype": "text/x-python",
   "name": "python",
   "nbconvert_exporter": "python",
   "pygments_lexer": "ipython3",
   "version": "3.8.3"
  }
 },
 "nbformat": 4,
 "nbformat_minor": 4
}
