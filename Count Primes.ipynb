{
 "cells": [
  {
   "cell_type": "code",
   "execution_count": 28,
   "metadata": {},
   "outputs": [],
   "source": [
    "class Solution:\n",
    "    def countPrimes(self, n: int) -> int:\n",
    "        if n < 2:\n",
    "            return 0\n",
    "        \n",
    "        primeNumber = [1]*n\n",
    "        for i in range(2, int(n**0.5)+1):\n",
    "            if primeNumber[i]:\n",
    "                primeNumber[i*i:n:i] = [0]*len(primeNumber[i*i:n:i])\n",
    "        return sum(primeNumber) - 2"
   ]
  },
  {
   "cell_type": "code",
   "execution_count": null,
   "metadata": {},
   "outputs": [],
   "source": []
  }
 ],
 "metadata": {
  "kernelspec": {
   "display_name": "Python 3",
   "language": "python",
   "name": "python3"
  },
  "language_info": {
   "codemirror_mode": {
    "name": "ipython",
    "version": 3
   },
   "file_extension": ".py",
   "mimetype": "text/x-python",
   "name": "python",
   "nbconvert_exporter": "python",
   "pygments_lexer": "ipython3",
   "version": "3.8.3"
  }
 },
 "nbformat": 4,
 "nbformat_minor": 4
}
