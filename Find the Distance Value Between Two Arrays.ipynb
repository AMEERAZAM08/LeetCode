{
 "cells": [
  {
   "cell_type": "code",
   "execution_count": null,
   "metadata": {},
   "outputs": [],
   "source": [
    "class Solution:\n",
    "    def findTheDistanceValue(self, arr1: List[int], arr2: List[int], d: int) -> int:\n",
    "        arr2.sort()\n",
    "        ct = 0\n",
    "        for a in arr1:\n",
    "            i = bisect_left(arr2, a)\n",
    "            if i == len(arr2):\n",
    "                valid = not (abs(arr2[i-1] - a) <= d) # not (True) evaluates to False\n",
    "            elif i == 0:\n",
    "                valid = not (abs(arr2[i] - a) <= d) \n",
    "            else:\n",
    "                valid = not (abs(arr2[i-1] - a) <= d or abs(arr2[i] - a) <= d)\n",
    "            ct += (valid) # (True) evaluates to 1, (False) evaluates to 0\n",
    "        return ct\n",
    "        "
   ]
  }
 ],
 "metadata": {
  "kernelspec": {
   "display_name": "Python 3",
   "language": "python",
   "name": "python3"
  },
  "language_info": {
   "codemirror_mode": {
    "name": "ipython",
    "version": 3
   },
   "file_extension": ".py",
   "mimetype": "text/x-python",
   "name": "python",
   "nbconvert_exporter": "python",
   "pygments_lexer": "ipython3",
   "version": "3.8.3"
  }
 },
 "nbformat": 4,
 "nbformat_minor": 4
}
