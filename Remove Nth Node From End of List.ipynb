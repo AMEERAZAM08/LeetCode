{
 "cells": [
  {
   "cell_type": "code",
   "execution_count": 3,
   "metadata": {},
   "outputs": [],
   "source": [
    "class ListNode:\n",
    "    def __init__(self, val=0, next=None):\n",
    "        self.val = val\n",
    "        self.next = next\n",
    "    \n",
    "\n",
    "class Solution:\n",
    "    def removeNthFromEnd(self, head, n):\n",
    "        node1 = head\n",
    "        node2 = head\n",
    "        for _ in range(n):\n",
    "            node2 = node2.next\n",
    "\n",
    "        node_prev = None\n",
    "        while node2:\n",
    "            node_prev = node1\n",
    "            node1 = node1.next\n",
    "            node2 = node2.next\n",
    "\n",
    "        if node_prev is None:\n",
    "            return head.next\n",
    "\n",
    "        node_prev.next = node1.next\n",
    "        return head"
   ]
  },
  {
   "cell_type": "code",
   "execution_count": 10,
   "metadata": {},
   "outputs": [
    {
     "data": {
      "text/plain": [
       "<__main__.ListNode at 0x21c894546d0>"
      ]
     },
     "execution_count": 10,
     "metadata": {},
     "output_type": "execute_result"
    }
   ],
   "source": [
    "ll=ListNode()\n",
    "ll.val=10\n",
    "ll.next=None \n",
    "ret = Solution().removeNthFromEnd(ll,1)\n",
    "ll"
   ]
  },
  {
   "cell_type": "code",
   "execution_count": 12,
   "metadata": {},
   "outputs": [
    {
     "name": "stdout",
     "output_type": "stream",
     "text": [
      "Linked List\n",
      "4-->3-->2-->1-->0-->\n",
      "2\n"
     ]
    }
   ],
   "source": [
    "class Node:\n",
    "    def __init__(self,data=None,next=None):\n",
    "        self.data=data\n",
    "        self.next=next\n",
    "class LinkedList:\n",
    "    def __init__(self):\n",
    "        self.head=None\n",
    "        \n",
    "    def insert_beg(self,data):\n",
    "        node = Node(data, self.head)\n",
    "        self.head = node\n",
    "    def print(self):\n",
    "        if self.head is None:\n",
    "            print('Empty')\n",
    "            return\n",
    "        itr=self.head\n",
    "        listr=''\n",
    "        while itr:\n",
    "            listr+=str(itr.data)+'-->'\n",
    "            itr=itr.next\n",
    "        print(listr)\n",
    "    def getlen(self):\n",
    "        itr=self.head\n",
    "        count=0\n",
    "        while itr:\n",
    "            count+=1\n",
    "            itr=itr.next\n",
    "        return count\n",
    "    def remove_last(self):\n",
    "        itr=self.head\n",
    "        if itr:\n",
    "            while itr.next.next:\n",
    "                itr=itr.next\n",
    "            rm=itr.next\n",
    "            itr.next=None\n",
    "        elif(itr==None):\n",
    "            print('can.t do operation  ')\n",
    "    def remove_nth(self,nth):\n",
    "        itr=self.head\n",
    "        ptr_size=self.head\n",
    "        size=0\n",
    "        while ptr_size:\n",
    "            size+=1\n",
    "            ptr_size=ptr_size.next\n",
    "        if size>nth:\n",
    "            Ls=size-nth\n",
    "            while itr.next and Ls >=0 :\n",
    "                itr=itr.next\n",
    "                Ls=Ls-1\n",
    "            print(itr.data)\n",
    "            nex=itr.next\n",
    "            \n",
    "        else:\n",
    "            return \n",
    "        \n",
    "        \n",
    "\n",
    "if __name__=='__main__':\n",
    "                \n",
    "    ll=LinkedList()\n",
    "    print('Linked List')\n",
    "    for i in range(5):\n",
    "        ll.insert_beg(i)\n",
    "    ll.print()\n",
    "    ll.remove_last()\n",
    "    ll.remove_nth(3)"
   ]
  }
 ],
 "metadata": {
  "kernelspec": {
   "display_name": "Python 3",
   "language": "python",
   "name": "python3"
  },
  "language_info": {
   "codemirror_mode": {
    "name": "ipython",
    "version": 3
   },
   "file_extension": ".py",
   "mimetype": "text/x-python",
   "name": "python",
   "nbconvert_exporter": "python",
   "pygments_lexer": "ipython3",
   "version": "3.8.3"
  }
 },
 "nbformat": 4,
 "nbformat_minor": 4
}
