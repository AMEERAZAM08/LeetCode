{
 "cells": [
  {
   "cell_type": "code",
   "execution_count": 85,
   "metadata": {},
   "outputs": [],
   "source": [
    "nums = [1,2,3,4,4,3,2,1]\n",
    "n = 4"
   ]
  },
  {
   "cell_type": "code",
   "execution_count": 86,
   "metadata": {},
   "outputs": [
    {
     "ename": "IndentationError",
     "evalue": "unexpected indent (<ipython-input-86-c62b12b244bc>, line 3)",
     "output_type": "error",
     "traceback": [
      "\u001b[1;36m  File \u001b[1;32m\"<ipython-input-86-c62b12b244bc>\"\u001b[1;36m, line \u001b[1;32m3\u001b[0m\n\u001b[1;33m    mid=size//2\u001b[0m\n\u001b[1;37m    ^\u001b[0m\n\u001b[1;31mIndentationError\u001b[0m\u001b[1;31m:\u001b[0m unexpected indent\n"
     ]
    }
   ],
   "source": [
    "size=len(nums)\n",
    "        #size\n",
    "        mid=size//2\n",
    "        #mid\n",
    "        shiffle_array=[]\n",
    "        A=nums[0:mid]\n",
    "        B=nums[mid:len(nums)]\n",
    "        #print(A,B)\n",
    "        for x in range(n):\n",
    "            for i in range(mid):\n",
    "                if x<n:\n",
    "                    shiffle_array.append(A[i])\n",
    "                    shiffle_array.append(B[i])\n",
    "    \n",
    "        return shiffle_array[0:len(nums)]"
   ]
  },
  {
   "cell_type": "code",
   "execution_count": 87,
   "metadata": {},
   "outputs": [],
   "source": [
    "import time\n"
   ]
  },
  {
   "cell_type": "code",
   "execution_count": 88,
   "metadata": {},
   "outputs": [
    {
     "name": "stdout",
     "output_type": "stream",
     "text": [
      "[1, 2, 3, 4] [4, 3, 2, 1]\n",
      "67023\n"
     ]
    }
   ],
   "source": [
    "ti=time.time_ns()\n",
    "size=len(nums)\n",
    "size\n",
    "mid=size//2\n",
    "mid\n",
    "shiffle_array=[]\n",
    "A=nums[0:mid]\n",
    "B=nums[mid:len(nums)]\n",
    "print(A,B)\n",
    "for x in range(n):\n",
    "    for i in range(mid):\n",
    "        if x<n:\n",
    "            shiffle_array.append(A[i])\n",
    "            shiffle_array.append(B[i])\n",
    "    \n",
    "shiffle_array[0:len(nums)]\n",
    "toc=time.time_ns()\n",
    "print((toc-ti)//60)"
   ]
  },
  {
   "cell_type": "code",
   "execution_count": 89,
   "metadata": {},
   "outputs": [
    {
     "data": {
      "text/plain": [
       "[1, 4, 2, 3, 3, 2, 4, 1]"
      ]
     },
     "execution_count": 89,
     "metadata": {},
     "output_type": "execute_result"
    }
   ],
   "source": [
    "\n",
    "List=[]\n",
    "for i in range(n):\n",
    "    List.extend([nums[i],nums[n+i]])\n",
    "List"
   ]
  },
  {
   "cell_type": "code",
   "execution_count": null,
   "metadata": {},
   "outputs": [],
   "source": []
  },
  {
   "cell_type": "code",
   "execution_count": null,
   "metadata": {},
   "outputs": [],
   "source": []
  }
 ],
 "metadata": {
  "kernelspec": {
   "display_name": "Python 3",
   "language": "python",
   "name": "python3"
  },
  "language_info": {
   "codemirror_mode": {
    "name": "ipython",
    "version": 3
   },
   "file_extension": ".py",
   "mimetype": "text/x-python",
   "name": "python",
   "nbconvert_exporter": "python",
   "pygments_lexer": "ipython3",
   "version": "3.8.3"
  }
 },
 "nbformat": 4,
 "nbformat_minor": 4
}
