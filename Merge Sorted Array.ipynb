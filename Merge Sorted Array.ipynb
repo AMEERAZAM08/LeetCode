{
 "cells": [
  {
   "cell_type": "code",
   "execution_count": 160,
   "metadata": {},
   "outputs": [],
   "source": [
    "nums1=[4,0,0,0,0,0]\n",
    "m=1\n",
    "nums2=[1,2,3,5,6]\n",
    "n=5\n",
    "\n"
   ]
  },
  {
   "cell_type": "code",
   "execution_count": 161,
   "metadata": {},
   "outputs": [
    {
     "data": {
      "text/plain": [
       "[1, 2, 3, 4, 5, 6]"
      ]
     },
     "execution_count": 161,
     "metadata": {},
     "output_type": "execute_result"
    }
   ],
   "source": [
    "merge_list=[]\n",
    "while(0 in nums1):\n",
    "    nums1.remove(0)\n",
    "while(0 in nums2):\n",
    "    nums2.remove(0)\n",
    "for i in nums2:\n",
    "    nums1.append(i)\n",
    "nums1.sort()\n",
    "nums1"
   ]
  },
  {
   "cell_type": "code",
   "execution_count": 162,
   "metadata": {},
   "outputs": [],
   "source": [
    "num=[1,2,3,4,0,5,0,0,0,2,1,0,0,0]\n",
    "size=len(num)"
   ]
  },
  {
   "cell_type": "code",
   "execution_count": 163,
   "metadata": {},
   "outputs": [],
   "source": [
    "num.reverse()"
   ]
  },
  {
   "cell_type": "code",
   "execution_count": 164,
   "metadata": {},
   "outputs": [],
   "source": [
    "last, i, j = m + n - 1, m - 1, n - 1\n",
    "while i >= 0 and j >= 0:\n",
    "    if nums1[i] > nums2[j]:\n",
    "        nums1[last] = nums1[i]\n",
    "        last, i = last - 1, i - 1\n",
    "    else:\n",
    "        nums1[last] = nums2[j]\n",
    "        last, j = last - 1, j - 1\n",
    "\n",
    "while j >= 0:\n",
    "    nums1[last] = nums2[j]\n",
    "    last, j = last - 1, j - 1"
   ]
  },
  {
   "cell_type": "code",
   "execution_count": 165,
   "metadata": {},
   "outputs": [
    {
     "data": {
      "text/plain": [
       "[1, 1, 2, 3, 5, 6]"
      ]
     },
     "execution_count": 165,
     "metadata": {},
     "output_type": "execute_result"
    }
   ],
   "source": [
    "nums1"
   ]
  },
  {
   "cell_type": "code",
   "execution_count": null,
   "metadata": {},
   "outputs": [],
   "source": []
  },
  {
   "cell_type": "code",
   "execution_count": null,
   "metadata": {},
   "outputs": [],
   "source": []
  }
 ],
 "metadata": {
  "kernelspec": {
   "display_name": "Python 3",
   "language": "python",
   "name": "python3"
  },
  "language_info": {
   "codemirror_mode": {
    "name": "ipython",
    "version": 3
   },
   "file_extension": ".py",
   "mimetype": "text/x-python",
   "name": "python",
   "nbconvert_exporter": "python",
   "pygments_lexer": "ipython3",
   "version": "3.8.3"
  }
 },
 "nbformat": 4,
 "nbformat_minor": 4
}
