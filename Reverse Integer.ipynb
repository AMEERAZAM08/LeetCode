{
 "cells": [
  {
   "cell_type": "code",
   "execution_count": 15,
   "metadata": {},
   "outputs": [],
   "source": [
    "class Solution:\n",
    "    def reverse(self, x: int) -> int:\n",
    "        if (2147483647>=x>=0):\n",
    "            y=str(x)\n",
    "            z=y[::-1]\n",
    "            p=int(z)\n",
    "            if (0<= p <=2147483647):\n",
    "                return p\n",
    "            else:\n",
    "                return 0\n",
    "        elif( -2147483648<=x<0):\n",
    "            y=str(x)[1:]\n",
    "            z=y[::-1]\n",
    "            p=int(z)\n",
    "            if ( -2147483648<=(-p) <0):\n",
    "                return -p\n",
    "            else:\n",
    "                return 0\n",
    "        "
   ]
  },
  {
   "cell_type": "code",
   "execution_count": null,
   "metadata": {},
   "outputs": [],
   "source": []
  },
  {
   "cell_type": "code",
   "execution_count": null,
   "metadata": {},
   "outputs": [],
   "source": []
  }
 ],
 "metadata": {
  "kernelspec": {
   "display_name": "Python 3",
   "language": "python",
   "name": "python3"
  },
  "language_info": {
   "codemirror_mode": {
    "name": "ipython",
    "version": 3
   },
   "file_extension": ".py",
   "mimetype": "text/x-python",
   "name": "python",
   "nbconvert_exporter": "python",
   "pygments_lexer": "ipython3",
   "version": "3.8.3"
  }
 },
 "nbformat": 4,
 "nbformat_minor": 4
}
