{
 "cells": [
  {
   "cell_type": "code",
   "execution_count": 14,
   "metadata": {},
   "outputs": [
    {
     "data": {
      "text/plain": [
       "[3, 3, 1, 1]"
      ]
     },
     "execution_count": 14,
     "metadata": {},
     "output_type": "execute_result"
    }
   ],
   "source": [
    "mat = [[3,3,1,1],\n",
    "       [2,2,1,2],\n",
    "       [1,1,1,2]]\n",
    "mat[0]"
   ]
  },
  {
   "cell_type": "code",
   "execution_count": 13,
   "metadata": {},
   "outputs": [
    {
     "data": {
      "text/plain": [
       "(12, [1, 1, 1, 1, 1, 1, 2, 2, 2, 2, 3, 3])"
      ]
     },
     "execution_count": 13,
     "metadata": {},
     "output_type": "execute_result"
    }
   ],
   "source": [
    "data_list=[]\n",
    "for i in range(len(mat)):\n",
    "    for j in range(len(mat[0])):\n",
    "        data_list.append(mat[i][j])\n",
    "data_list.sort()\n",
    "count=len(data_list)\n",
    "count,data_list"
   ]
  },
  {
   "cell_type": "code",
   "execution_count": 11,
   "metadata": {},
   "outputs": [
    {
     "data": {
      "text/plain": [
       "[[0, 0, 0, 0], [0, 0, 0, 0], [0, 0, 0, 0]]"
      ]
     },
     "execution_count": 11,
     "metadata": {},
     "output_type": "execute_result"
    }
   ],
   "source": [
    "res=[[0 for i in range(len(mat[0]))] for i in range(len(mat))]\n",
    "res"
   ]
  },
  {
   "cell_type": "code",
   "execution_count": 27,
   "metadata": {},
   "outputs": [
    {
     "data": {
      "text/plain": [
       "[[1, 1, 1, 1], [1, 2, 2, 2], [1, 2, 3, 3]]"
      ]
     },
     "execution_count": 27,
     "metadata": {},
     "output_type": "execute_result"
    }
   ],
   "source": [
    "from collections import defaultdict\n",
    "def diagonalSort(mat):\n",
    "    m,n = len(mat), len(mat[0])\n",
    "    d = defaultdict(list)\n",
    "    # diagonal always starts with i==0 or j==0\n",
    "    for i in range(m): # store the value in corresponding diagonal with the starting index \n",
    "        for j in range(n):\n",
    "            d[(i-min(i,j),j-min(i,j))].append(mat[i][j])\n",
    "    for x in d:\n",
    "        d[x].sort()\n",
    "\n",
    "    for i in range(m): # put back the diagonal elements\n",
    "        for j in range(n):\n",
    "            index = min(i,j)\n",
    "            mat[i][j] = d[(i-min(i,j),j-min(i,j))][index]\n",
    "    return mat\n",
    "diagonalSort(mat)"
   ]
  },
  {
   "cell_type": "code",
   "execution_count": 15,
   "metadata": {},
   "outputs": [
    {
     "name": "stdout",
     "output_type": "stream",
     "text": [
      "[3, 1, 1, 1, 2, 2]\n"
     ]
    }
   ],
   "source": [
    "for column in range(len(mat[0]) - 1):\n",
    "        diagonal_list = []\n",
    "        col = column\n",
    "\n",
    "        for row in range(len(mat)):\n",
    "            diagonal_list.append(mat[row][col])\n",
    "            col += 1\n",
    "\n",
    "            if col >= len(mat[0]):\n",
    "                break\n",
    "\n",
    "        diagonal_list = sorted(diagonal_list)\n",
    "        col = column\n",
    "\n",
    "        for row in range(len(mat)):\n",
    "            mat[row][col] = diagonal_list[row]\n",
    "            col += 1\n",
    "\n",
    "            if col >= len(mat[0]):\n",
    "                break\n",
    "\n",
    "    for row in range(1, len(mat)):\n",
    "        diagonal_list = []\n",
    "        r = row\n",
    "\n",
    "        for column in range(len(mat[0])):\n",
    "            diagonal_list.append(mat[r][column])\n",
    "            r += 1\n",
    "\n",
    "            if r >= len(mat):\n",
    "                break\n",
    "\n",
    "        diagonal_list = sorted(diagonal_list)\n",
    "        r = row\n",
    "\n",
    "        for column in range(len(mat[0])):\n",
    "            mat[r][column] = diagonal_list[column]\n",
    "            r += 1\n",
    "\n",
    "            if r >= len(mat):\n",
    "                break\n",
    "\n",
    "    return mat"
   ]
  },
  {
   "cell_type": "code",
   "execution_count": null,
   "metadata": {},
   "outputs": [],
   "source": []
  }
 ],
 "metadata": {
  "kernelspec": {
   "display_name": "Python 3",
   "language": "python",
   "name": "python3"
  },
  "language_info": {
   "codemirror_mode": {
    "name": "ipython",
    "version": 3
   },
   "file_extension": ".py",
   "mimetype": "text/x-python",
   "name": "python",
   "nbconvert_exporter": "python",
   "pygments_lexer": "ipython3",
   "version": "3.8.3"
  }
 },
 "nbformat": 4,
 "nbformat_minor": 4
}
