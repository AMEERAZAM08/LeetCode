{
 "cells": [
  {
   "cell_type": "code",
   "execution_count": 37,
   "metadata": {},
   "outputs": [],
   "source": [
    "\n",
    "s=\"3*4-2*5\""
   ]
  },
  {
   "cell_type": "code",
   "execution_count": 39,
   "metadata": {},
   "outputs": [
    {
     "data": {
      "text/plain": [
       "[]"
      ]
     },
     "execution_count": 39,
     "metadata": {},
     "output_type": "execute_result"
    }
   ],
   "source": [
    "le=[]\n",
    "count=0\n",
    "re=[]\n",
    "for i in s:\n",
    "    if i=='(':\n",
    "        le.append(i)\n",
    "        count+=1\n",
    "    if i==')':\n",
    "        re.append(count)\n",
    "        count-=1\n",
    "        le.pop()\n",
    "if len(s)<=1:\n",
    "    #retrun 0\n",
    "    pass\n",
    "elif len(re)==0:\n",
    "    return 0\n",
    "else:\n",
    "    #return max(re)\n",
    "    pass\n",
    "re"
   ]
  },
  {
   "cell_type": "code",
   "execution_count": null,
   "metadata": {},
   "outputs": [],
   "source": []
  }
 ],
 "metadata": {
  "kernelspec": {
   "display_name": "Python 3",
   "language": "python",
   "name": "python3"
  },
  "language_info": {
   "codemirror_mode": {
    "name": "ipython",
    "version": 3
   },
   "file_extension": ".py",
   "mimetype": "text/x-python",
   "name": "python",
   "nbconvert_exporter": "python",
   "pygments_lexer": "ipython3",
   "version": "3.8.3"
  }
 },
 "nbformat": 4,
 "nbformat_minor": 4
}
