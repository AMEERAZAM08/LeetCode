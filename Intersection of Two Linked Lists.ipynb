{
 "cells": [
  {
   "cell_type": "code",
   "execution_count": 25,
   "metadata": {},
   "outputs": [],
   "source": [
    "# Definition for singly-linked list.\n",
    "# class ListNode:\n",
    "#     def __init__(self, x):\n",
    "#         self.val = x\n",
    "#         self.next = None\n",
    "\n",
    "class Solution:\n",
    "    def getIntersectionNode(self, headA: ListNode, headB: ListNode) -> ListNode:\n",
    "        nodes = set()\n",
    "    # traverse the first list and insert the address of each node into the set\n",
    "        while headA:\n",
    "            nodes.add(headA)\n",
    "            headA = headA.next\n",
    " \n",
    "    # now traverse the second list and find the first node that is\n",
    "    # already present in the set\n",
    "        while headB:\n",
    "            # return the current node if it is found in the set\n",
    "            if headB in nodes:\n",
    "                return headB\n",
    "            headB = headB.next\n",
    " \n",
    "    # we reach here if lists do not intersect\n",
    "        return None\n",
    "        \n",
    "        "
   ]
  },
  {
   "cell_type": "code",
   "execution_count": 23,
   "metadata": {},
   "outputs": [
    {
     "name": "stdout",
     "output_type": "stream",
     "text": [
      "The intersection point is 4\n"
     ]
    }
   ],
   "source": [
    "class Node:\n",
    "    def __init__(self, data, next=None):\n",
    "        self.data = data\n",
    "        self.next = next\n",
    "\n",
    "def findIntersection(first, second):\n",
    "    nodes = set()\n",
    "    while first:\n",
    "        nodes.add(first)\n",
    "        first = first.next\n",
    "    while second:\n",
    "        if second in nodes:\n",
    "            return second\n",
    "        second = second.next\n",
    "    return None\n",
    " \n",
    " \n",
    "if __name__ == '__main__':\n",
    "\n",
    "    first = None\n",
    "    for i in reversed(range(1, 5)):\n",
    "        first = Node(i, first)\n",
    "\n",
    "    second = None\n",
    "    for i in reversed(range(1, 4)):\n",
    "        second = Node(i, second)\n",
    "    second.next.next.next = first.next.next.next\n",
    " \n",
    "    addr = findIntersection(first, second)\n",
    "    if addr:\n",
    "        print(\"The intersection point is\", addr.data)\n",
    "    else:\n",
    "        print(\"The lists do not intersect.\")\n",
    " "
   ]
  },
  {
   "cell_type": "code",
   "execution_count": null,
   "metadata": {},
   "outputs": [],
   "source": []
  }
 ],
 "metadata": {
  "kernelspec": {
   "display_name": "Python 3",
   "language": "python",
   "name": "python3"
  },
  "language_info": {
   "codemirror_mode": {
    "name": "ipython",
    "version": 3
   },
   "file_extension": ".py",
   "mimetype": "text/x-python",
   "name": "python",
   "nbconvert_exporter": "python",
   "pygments_lexer": "ipython3",
   "version": "3.8.3"
  }
 },
 "nbformat": 4,
 "nbformat_minor": 4
}
