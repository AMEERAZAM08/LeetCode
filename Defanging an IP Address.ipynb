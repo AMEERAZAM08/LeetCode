{
 "cells": [
  {
   "cell_type": "code",
   "execution_count": 104,
   "metadata": {},
   "outputs": [
    {
     "data": {
      "text/plain": [
       "['1', '1', '1', '1']"
      ]
     },
     "execution_count": 104,
     "metadata": {},
     "output_type": "execute_result"
    }
   ],
   "source": []
  },
  {
   "cell_type": "code",
   "execution_count": 107,
   "metadata": {},
   "outputs": [
    {
     "data": {
      "text/plain": [
       "'1[.]1[.]1[.]1'"
      ]
     },
     "execution_count": 107,
     "metadata": {},
     "output_type": "execute_result"
    }
   ],
   "source": [
    "address = \"1.1.1.1\"\n",
    "allAddress= address.split('.')\n",
    "allAddress\n",
    "newstring=\"\"\n",
    "flag=1\n",
    "index=0\n",
    "if (len(allAddress)==4):\n",
    "    for i in allAddress:\n",
    "        if (i.isdigit() and flag==1):  \n",
    "            t=\"[.]\"\n",
    "            newstring=newstring+str(i)+t\n",
    "            flag=0\n",
    "        elif(i.isdigit() and flag==0):\n",
    "            t=\"[.]\"\n",
    "            newstring=newstring+str(i)+t\n",
    "            flag=1\n",
    "        else:\n",
    "            t=\"[.]\"\n",
    "            newstring=newstring+t\n",
    "            index+=1\n",
    "            flag=1\n",
    "newstring[0:-3]"
   ]
  },
  {
   "cell_type": "code",
   "execution_count": null,
   "metadata": {},
   "outputs": [],
   "source": []
  },
  {
   "cell_type": "code",
   "execution_count": 106,
   "metadata": {},
   "outputs": [
    {
     "name": "stdout",
     "output_type": "stream",
     "text": [
      "\"1[.]1[.]1[.]1\""
     ]
    }
   ],
   "source": [
    "print(\"\\\"\",end='')\n",
    "for i in address:\n",
    "    if i=='.':\n",
    "        \n",
    "        print(\"[\"+i+\"]\",end='')\n",
    "    else:\n",
    "        print(i,end='')\n",
    "print(\"\\\"\",end='')"
   ]
  },
  {
   "cell_type": "code",
   "execution_count": null,
   "metadata": {},
   "outputs": [],
   "source": []
  },
  {
   "cell_type": "code",
   "execution_count": null,
   "metadata": {},
   "outputs": [],
   "source": []
  },
  {
   "cell_type": "code",
   "execution_count": null,
   "metadata": {},
   "outputs": [],
   "source": []
  }
 ],
 "metadata": {
  "kernelspec": {
   "display_name": "Python 3",
   "language": "python",
   "name": "python3"
  },
  "language_info": {
   "codemirror_mode": {
    "name": "ipython",
    "version": 3
   },
   "file_extension": ".py",
   "mimetype": "text/x-python",
   "name": "python",
   "nbconvert_exporter": "python",
   "pygments_lexer": "ipython3",
   "version": "3.8.3"
  }
 },
 "nbformat": 4,
 "nbformat_minor": 4
}
