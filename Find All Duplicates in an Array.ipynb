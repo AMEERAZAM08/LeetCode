{
 "cells": [
  {
   "cell_type": "code",
   "execution_count": 16,
   "metadata": {},
   "outputs": [],
   "source": [
    "nums=[4,3,2,7,8,2,3,1]"
   ]
  },
  {
   "cell_type": "code",
   "execution_count": 10,
   "metadata": {},
   "outputs": [
    {
     "data": {
      "text/plain": [
       "[2, 3]"
      ]
     },
     "execution_count": 10,
     "metadata": {},
     "output_type": "execute_result"
    }
   ],
   "source": [
    "dual=[]\n",
    "for i in range(len(nums)):\n",
    "    if nums.count(nums[i]) >=2:\n",
    "        dual.append(nums[i])\n",
    "        \n",
    "    \n",
    "        \n",
    "res=list(set(dual))\n",
    "res"
   ]
  },
  {
   "cell_type": "code",
   "execution_count": 18,
   "metadata": {},
   "outputs": [
    {
     "data": {
      "text/plain": [
       "[3, 2]"
      ]
     },
     "execution_count": 18,
     "metadata": {},
     "output_type": "execute_result"
    }
   ],
   "source": [
    "n = len(nums)\n",
    "for i in range(0,n):\n",
    "    while nums[i] != i+1:\n",
    "        d = nums[i]-1\n",
    "\t\t#sanity check\n",
    "        #\tduplication check\n",
    "        if nums[d] != nums[i]:\n",
    "            nums[i], nums[d] = nums[d], nums[i]\n",
    "        else:\n",
    "            break\n",
    "\n",
    "result = []\n",
    "for i in range(0,n):\n",
    "    if nums[i] != i+1:\n",
    "        result.append(nums[i])\n",
    "\n",
    "result"
   ]
  },
  {
   "cell_type": "code",
   "execution_count": null,
   "metadata": {},
   "outputs": [],
   "source": []
  }
 ],
 "metadata": {
  "kernelspec": {
   "display_name": "Python 3",
   "language": "python",
   "name": "python3"
  },
  "language_info": {
   "codemirror_mode": {
    "name": "ipython",
    "version": 3
   },
   "file_extension": ".py",
   "mimetype": "text/x-python",
   "name": "python",
   "nbconvert_exporter": "python",
   "pygments_lexer": "ipython3",
   "version": "3.8.3"
  }
 },
 "nbformat": 4,
 "nbformat_minor": 4
}
