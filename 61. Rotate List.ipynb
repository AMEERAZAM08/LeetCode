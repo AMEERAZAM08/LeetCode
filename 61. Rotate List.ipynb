{
 "cells": [
  {
   "cell_type": "code",
   "execution_count": 14,
   "metadata": {},
   "outputs": [],
   "source": []
  },
  {
   "cell_type": "code",
   "execution_count": 107,
   "metadata": {},
   "outputs": [],
   "source": [
    "def rotateRight(head, k):\n",
    "        \n",
    "        if not head:\n",
    "            return None\n",
    "        \n",
    "        lastElement = head\n",
    "        length = 1\n",
    "        # get the length of the list and the last node in the list\n",
    "        while ( lastElement.next ):\n",
    "            lastElement = lastElement.next\n",
    "            length += 1\n",
    "\n",
    "        # If k is equal to the length of the list then k == 0\n",
    "        # ElIf k is greater than the length of the list then k = k % length\n",
    "        k = k % length\n",
    "            \n",
    "        # Set the last node to point to head node\n",
    "        # The list is now a circular linked list with last node pointing to first node\n",
    "        lastElement.next = head\n",
    "        \n",
    "        # Traverse the list to get to the node just before the ( length - k )th node.\n",
    "        # Example: In 1->2->3->4->5, and k = 2\n",
    "        #          we need to get to the Node(3)\n",
    "        tempNode = head\n",
    "        for _ in range( length - k - 1 ):\n",
    "            tempNode = tempNode.next\n",
    "        \n",
    "        # Get the next node from the tempNode and then set the tempNode.next as None\n",
    "        # Example: In 1->2->3->4->5, and k = 2\n",
    "        #          tempNode = Node(3)\n",
    "        #          answer = Node(3).next => Node(4)\n",
    "        #          Node(3).next = None ( cut the linked list from here )\n",
    "        answer = tempNode.next\n",
    "        tempNode.next = None\n",
    "        \n",
    "        return answer"
   ]
  },
  {
   "cell_type": "code",
   "execution_count": null,
   "metadata": {},
   "outputs": [],
   "source": []
  },
  {
   "cell_type": "code",
   "execution_count": null,
   "metadata": {},
   "outputs": [],
   "source": []
  },
  {
   "cell_type": "code",
   "execution_count": null,
   "metadata": {},
   "outputs": [],
   "source": []
  }
 ],
 "metadata": {
  "kernelspec": {
   "display_name": "Python 3",
   "language": "python",
   "name": "python3"
  },
  "language_info": {
   "codemirror_mode": {
    "name": "ipython",
    "version": 3
   },
   "file_extension": ".py",
   "mimetype": "text/x-python",
   "name": "python",
   "nbconvert_exporter": "python",
   "pygments_lexer": "ipython3",
   "version": "3.8.3"
  }
 },
 "nbformat": 4,
 "nbformat_minor": 4
}
