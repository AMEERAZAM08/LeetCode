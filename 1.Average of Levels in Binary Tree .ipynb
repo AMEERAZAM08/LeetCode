{
 "cells": [
  {
   "cell_type": "code",
   "execution_count": 42,
   "metadata": {},
   "outputs": [
    {
     "name": "stdout",
     "output_type": "stream",
     "text": [
      "1\n",
      "2\n",
      "3\n",
      "[4, 11, 18]\n"
     ]
    }
   ],
   "source": [
    "\n",
    "from queue import Queue \n",
    "class newNode: \n",
    "\tdef __init__(self, data): \n",
    "\t\tself.val = data \n",
    "\t\tself.left = self.right = None\n",
    "\t\n",
    "# Function to print the average value \n",
    "# of the nodes on each level \n",
    "def averageOfLevels(root):\n",
    "    result = []\n",
    "    level = (root,)\n",
    "  \n",
    "    while level:\n",
    "        result.append(sum(node.val for node in level))# / len(level))\n",
    "        print(len(level))\n",
    "        #level = tuple(leaf for node in level for leaf in (node.left, node.right) if leaf)\n",
    "        level = tuple(leaf for node in level for leaf in (node.left, node.right) if leaf)\n",
    "      \n",
    "    return result\n",
    "\n",
    "# Driver code \n",
    "if __name__ == '__main__': \n",
    "\n",
    "\t# Let us construct a Binary Tree \n",
    "\t#\t 4 \n",
    "\t# / \\ \n",
    "\t# 2 9 \n",
    "\t# / \\ \\ \n",
    "\t# 3 5 7 \n",
    "\troot = None\n",
    "\troot = newNode(4) \n",
    "\troot.left = newNode(2) \n",
    "\troot.right = newNode(9) \n",
    "\troot.left.left = newNode(3) \n",
    "\troot.left.right = newNode(8) \n",
    "\troot.right.right = newNode(7) \n",
    "\tprint(averageOfLevels(root)) \n",
    "    \n",
    "# This code is contributed by PranchalK \n"
   ]
  },
  {
   "cell_type": "code",
   "execution_count": 18,
   "metadata": {},
   "outputs": [
    {
     "data": {
      "text/plain": [
       "deque([80, 8, 5, 10])"
      ]
     },
     "execution_count": 18,
     "metadata": {},
     "output_type": "execute_result"
    }
   ],
   "source": [
    "from queue import Queue \n",
    "q=Queue()\n",
    "q.put(80)\n",
    "q.put(8)\n",
    "q.put(5)\n",
    "q.put(10)\n",
    "li_q= q.queue\n",
    "li_q"
   ]
  },
  {
   "cell_type": "code",
   "execution_count": 45,
   "metadata": {},
   "outputs": [],
   "source": [
    "def averageOfLevels(root):\n",
    "        \"\"\"\n",
    "        :type root: TreeNode\n",
    "        :rtype: List[float]\n",
    "        \"\"\"\n",
    "        res = []\n",
    "        cnt = []\n",
    "        \n",
    "        def getLevelSum(node, level):\n",
    "            if len(res) <= level:\n",
    "                res.append(node.val)\n",
    "                cnt.append(1)\n",
    "            else:\n",
    "                res[level] += node.val\n",
    "                cnt[level] += 1\n",
    "            if node.left:\n",
    "                getLevelSum(node.left, level+1)\n",
    "            if node.right:\n",
    "                getLevelSum(node.right, level+1)\n",
    "                \n",
    "        getLevelSum(root, 0)\n",
    "        return [s/c for s, c in zip(res, cnt)]\n",
    "\n",
    "    "
   ]
  },
  {
   "cell_type": "code",
   "execution_count": 46,
   "metadata": {},
   "outputs": [
    {
     "data": {
      "text/plain": [
       "[4.0, 5.5, 6.0]"
      ]
     },
     "execution_count": 46,
     "metadata": {},
     "output_type": "execute_result"
    }
   ],
   "source": [
    "averageOfLevels(root)"
   ]
  },
  {
   "cell_type": "code",
   "execution_count": null,
   "metadata": {},
   "outputs": [],
   "source": []
  }
 ],
 "metadata": {
  "kernelspec": {
   "display_name": "Python 3",
   "language": "python",
   "name": "python3"
  },
  "language_info": {
   "codemirror_mode": {
    "name": "ipython",
    "version": 3
   },
   "file_extension": ".py",
   "mimetype": "text/x-python",
   "name": "python",
   "nbconvert_exporter": "python",
   "pygments_lexer": "ipython3",
   "version": "3.8.3"
  }
 },
 "nbformat": 4,
 "nbformat_minor": 4
}
