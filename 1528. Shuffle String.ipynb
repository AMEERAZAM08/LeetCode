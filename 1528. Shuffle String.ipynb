{
 "cells": [
  {
   "cell_type": "code",
   "execution_count": 97,
   "metadata": {},
   "outputs": [
    {
     "data": {
      "text/plain": [
       "'leetcode'"
      ]
     },
     "execution_count": 97,
     "metadata": {},
     "output_type": "execute_result"
    }
   ],
   "source": [
    "s = \"codeleet\"\n",
    "indices = [4,5,6,7,0,2,1,3]\n",
    "m=max(indices)\n",
    "string=[]\n",
    "class my_dictionary(dict): \n",
    "\n",
    "\t# __init__ function \n",
    "\tdef __init__(self): \n",
    "\t\tself = dict() \n",
    "\tdef add(self, key, value): \n",
    "\t\tself[key] = value \n",
    "\n",
    "# Main Function \n",
    "dict_obj = my_dictionary() \n",
    "\n",
    "for i,j in zip(s,indices):\n",
    "    dict_obj.add(j, str(i)) \n",
    "\n",
    "for i in range(0,m+1):\n",
    "    string.append(str(dict_obj.get(i)))\n",
    "\n",
    "re=\"\"\n",
    "for i in string:\n",
    "    re=re+i\n",
    "re"
   ]
  },
  {
   "cell_type": "code",
   "execution_count": 94,
   "metadata": {},
   "outputs": [],
   "source": []
  },
  {
   "cell_type": "code",
   "execution_count": 95,
   "metadata": {},
   "outputs": [
    {
     "data": {
      "text/plain": [
       "'leetcode'"
      ]
     },
     "execution_count": 95,
     "metadata": {},
     "output_type": "execute_result"
    }
   ],
   "source": [
    "re"
   ]
  },
  {
   "cell_type": "code",
   "execution_count": null,
   "metadata": {},
   "outputs": [],
   "source": []
  }
 ],
 "metadata": {
  "kernelspec": {
   "display_name": "Python 3",
   "language": "python",
   "name": "python3"
  },
  "language_info": {
   "codemirror_mode": {
    "name": "ipython",
    "version": 3
   },
   "file_extension": ".py",
   "mimetype": "text/x-python",
   "name": "python",
   "nbconvert_exporter": "python",
   "pygments_lexer": "ipython3",
   "version": "3.8.3"
  }
 },
 "nbformat": 4,
 "nbformat_minor": 4
}
