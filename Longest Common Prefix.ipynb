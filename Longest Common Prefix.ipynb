{
 "cells": [
  {
   "cell_type": "code",
   "execution_count": 3,
   "metadata": {},
   "outputs": [],
   "source": [
    "strs = [\"flower\",\"flow\",\"flight\"]"
   ]
  },
  {
   "cell_type": "code",
   "execution_count": 10,
   "metadata": {},
   "outputs": [
    {
     "data": {
      "text/plain": [
       "0"
      ]
     },
     "execution_count": 10,
     "metadata": {},
     "output_type": "execute_result"
    }
   ],
   "source": [
    "strs[0].find(strs[1])"
   ]
  },
  {
   "cell_type": "code",
   "execution_count": 11,
   "metadata": {},
   "outputs": [
    {
     "name": "stdout",
     "output_type": "stream",
     "text": [
      "sc\n"
     ]
    }
   ],
   "source": [
    "class Solution(object):\n",
    "   def longestCommonPrefix(self, strs):\n",
    "      \"\"\"\n",
    "      :type strs: List[str]\n",
    "      :rtype: str\n",
    "      \"\"\"\n",
    "      if len(strs) == 0:\n",
    "         return \"\"\n",
    "      current = strs[0]\n",
    "      for i in range(1,len(strs)):\n",
    "         temp = \"\"\n",
    "         if len(current) == 0:\n",
    "            break\n",
    "         for j in range(len(strs[i])):\n",
    "            if j<len(current) and current[j] == strs[i][j]:\n",
    "               temp+=current[j]\n",
    "            else:\n",
    "               break\n",
    "         current = temp\n",
    "      return current\n",
    "input_list = [\"school\",\"schedule\",\"scotland\"]\n",
    "ob1 = Solution()\n",
    "print(ob1.longestCommonPrefix(input_list))"
   ]
  },
  {
   "cell_type": "code",
   "execution_count": null,
   "metadata": {},
   "outputs": [],
   "source": []
  }
 ],
 "metadata": {
  "kernelspec": {
   "display_name": "Python 3",
   "language": "python",
   "name": "python3"
  },
  "language_info": {
   "codemirror_mode": {
    "name": "ipython",
    "version": 3
   },
   "file_extension": ".py",
   "mimetype": "text/x-python",
   "name": "python",
   "nbconvert_exporter": "python",
   "pygments_lexer": "ipython3",
   "version": "3.8.3"
  }
 },
 "nbformat": 4,
 "nbformat_minor": 4
}
