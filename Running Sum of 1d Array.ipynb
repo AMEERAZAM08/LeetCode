{
 "cells": [
  {
   "cell_type": "code",
   "execution_count": 70,
   "metadata": {},
   "outputs": [],
   "source": [
    "nums =[34,-13,12,-59,27,-63,1,94,84,54,9,57,53,11,85,-17,-78,-85,-84,5,43,-44,-48,-38]\n"
   ]
  },
  {
   "cell_type": "code",
   "execution_count": 71,
   "metadata": {},
   "outputs": [],
   "source": [
    "class Solution:\n",
    "    def runningSum(self, nums: List[int]) -> List[int]:\n",
    "        new=[]\n",
    "        for i in range(1,len(nums)+1):\n",
    "            new.append(sum(nums[0:i]))\n",
    "        return new"
   ]
  },
  {
   "cell_type": "code",
   "execution_count": 72,
   "metadata": {},
   "outputs": [
    {
     "data": {
      "text/plain": [
       "[34,\n",
       " 21,\n",
       " 33,\n",
       " -26,\n",
       " 1,\n",
       " -62,\n",
       " -61,\n",
       " 33,\n",
       " 117,\n",
       " 171,\n",
       " 180,\n",
       " 237,\n",
       " 290,\n",
       " 301,\n",
       " 386,\n",
       " 369,\n",
       " 291,\n",
       " 206,\n",
       " 122,\n",
       " 127,\n",
       " 170,\n",
       " 126,\n",
       " 78,\n",
       " 40]"
      ]
     },
     "execution_count": 72,
     "metadata": {},
     "output_type": "execute_result"
    }
   ],
   "source": [
    "new"
   ]
  },
  {
   "cell_type": "code",
   "execution_count": null,
   "metadata": {},
   "outputs": [],
   "source": []
  },
  {
   "cell_type": "code",
   "execution_count": null,
   "metadata": {},
   "outputs": [],
   "source": []
  },
  {
   "cell_type": "code",
   "execution_count": null,
   "metadata": {},
   "outputs": [],
   "source": []
  }
 ],
 "metadata": {
  "kernelspec": {
   "display_name": "Python 3",
   "language": "python",
   "name": "python3"
  },
  "language_info": {
   "codemirror_mode": {
    "name": "ipython",
    "version": 3
   },
   "file_extension": ".py",
   "mimetype": "text/x-python",
   "name": "python",
   "nbconvert_exporter": "python",
   "pygments_lexer": "ipython3",
   "version": "3.8.3"
  }
 },
 "nbformat": 4,
 "nbformat_minor": 4
}
