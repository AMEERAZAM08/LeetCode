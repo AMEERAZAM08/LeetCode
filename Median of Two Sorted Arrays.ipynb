{
 "cells": [
  {
   "cell_type": "code",
   "execution_count": 227,
   "metadata": {},
   "outputs": [],
   "source": [
    "nums1 = [3]\n",
    "nums2=[1,4]\n",
    "n=len(nums1) +len(nums2)\n",
    "for i in nums2:\n",
    "    nums1.append(i)\n",
    "nums1.sort()"
   ]
  },
  {
   "cell_type": "code",
   "execution_count": 230,
   "metadata": {},
   "outputs": [
    {
     "ename": "SyntaxError",
     "evalue": "invalid syntax (<ipython-input-230-2649e90aa665>, line 18)",
     "output_type": "error",
     "traceback": [
      "\u001b[1;36m  File \u001b[1;32m\"<ipython-input-230-2649e90aa665>\"\u001b[1;36m, line \u001b[1;32m18\u001b[0m\n\u001b[1;33m    return (sort[first] + sort[second]) / 2int(\"{:.5f}\".format(median))\u001b[0m\n\u001b[1;37m                                           ^\u001b[0m\n\u001b[1;31mSyntaxError\u001b[0m\u001b[1;31m:\u001b[0m invalid syntax\n"
     ]
    }
   ],
   "source": [
    "\n",
    "class Solution:\n",
    "    def findMedianSortedArrays(self, nums1: List[int], nums2: List[int]) -> float:\n",
    "        nums1.extend(nums2) # tack on num2 to nums1\n",
    "        sort = sorted(nums1) # sort nums1\n",
    "        \n",
    "        # Check if the merged array has an even or odd number of elements\n",
    "        if len(sort) % 2 != 0:\n",
    "            \n",
    "            # if number of elements is odd, then the median is at index of 1\n",
    "            # less than length divided by 2\n",
    "            return float(sort[(len(sort) - 1) // 2])\n",
    "        else:\n",
    "            \n",
    "            # if even number of elements, then the median is half of the sum of \n",
    "            # the num at an index of half the length and one less than half the length\n",
    "            first = len(sort) // 2\n",
    "            second = first - 1\n",
    "            return (sort[first] + sort[second]) / 2int(\"{:.5f}\".format(median))\n",
    "else:\n",
    "    num=0.00000\n",
    "    print(\"{:.5f}\".format(median))\n",
    "\n",
    "    "
   ]
  },
  {
   "cell_type": "code",
   "execution_count": 229,
   "metadata": {},
   "outputs": [],
   "source": [
    "a(nums1,nums2)"
   ]
  },
  {
   "cell_type": "code",
   "execution_count": null,
   "metadata": {},
   "outputs": [],
   "source": []
  }
 ],
 "metadata": {
  "kernelspec": {
   "display_name": "Python 3",
   "language": "python",
   "name": "python3"
  },
  "language_info": {
   "codemirror_mode": {
    "name": "ipython",
    "version": 3
   },
   "file_extension": ".py",
   "mimetype": "text/x-python",
   "name": "python",
   "nbconvert_exporter": "python",
   "pygments_lexer": "ipython3",
   "version": "3.8.3"
  }
 },
 "nbformat": 4,
 "nbformat_minor": 4
}
