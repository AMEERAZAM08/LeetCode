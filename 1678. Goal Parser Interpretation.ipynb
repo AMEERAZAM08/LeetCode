{
 "cells": [
  {
   "cell_type": "code",
   "execution_count": 14,
   "metadata": {},
   "outputs": [
    {
     "data": {
      "text/plain": [
       "'Gooooal'"
      ]
     },
     "execution_count": 14,
     "metadata": {},
     "output_type": "execute_result"
    }
   ],
   "source": [
    "command = \"G()()()()(al)\"\n",
    "result=\"\"\n",
    "flag=0\n",
    "for i in command:\n",
    "    if i=='G':\n",
    "        result=result+'G'\n",
    "    if i=='(':\n",
    "        flag=1\n",
    "    if i==')' and flag==1:\n",
    "        flag=0\n",
    "        result=result+'o'\n",
    "    if i=='a':\n",
    "        flag=1\n",
    "    if i=='l' and flag==1:\n",
    "        flag=0\n",
    "        result=result+'al'\n",
    "result "
   ]
  },
  {
   "cell_type": "code",
   "execution_count": null,
   "metadata": {},
   "outputs": [],
   "source": []
  }
 ],
 "metadata": {
  "kernelspec": {
   "display_name": "Python 3",
   "language": "python",
   "name": "python3"
  },
  "language_info": {
   "codemirror_mode": {
    "name": "ipython",
    "version": 3
   },
   "file_extension": ".py",
   "mimetype": "text/x-python",
   "name": "python",
   "nbconvert_exporter": "python",
   "pygments_lexer": "ipython3",
   "version": "3.8.3"
  }
 },
 "nbformat": 4,
 "nbformat_minor": 4
}
