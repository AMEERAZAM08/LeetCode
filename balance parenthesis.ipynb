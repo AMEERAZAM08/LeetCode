{
 "cells": [
  {
   "cell_type": "code",
   "execution_count": 19,
   "metadata": {},
   "outputs": [
    {
     "name": "stdout",
     "output_type": "stream",
     "text": [
      "False\n"
     ]
    }
   ],
   "source": [
    "s=\"{[]{()}\"\n",
    "open_list = [\"[\",\"{\",\"(\"] \n",
    "close_list = [\"]\",\"}\",\")\"] \n",
    "stack = [] \n",
    "for i in s: \n",
    "    if i in open_list: \n",
    "        stack.append(i) \n",
    "    elif i in close_list: \n",
    "        pos = close_list.index(i) \n",
    "        if ((len(stack) > 0) and(open_list[pos] == stack[len(stack)-1])): \n",
    "            stack.pop() \n",
    "        \n",
    "if len(stack) == 0: \n",
    "        print('True')\n",
    "else: \n",
    "    print('False')"
   ]
  },
  {
   "cell_type": "code",
   "execution_count": null,
   "metadata": {},
   "outputs": [],
   "source": []
  },
  {
   "cell_type": "code",
   "execution_count": null,
   "metadata": {},
   "outputs": [],
   "source": []
  }
 ],
 "metadata": {
  "kernelspec": {
   "display_name": "Python 3",
   "language": "python",
   "name": "python3"
  },
  "language_info": {
   "codemirror_mode": {
    "name": "ipython",
    "version": 3
   },
   "file_extension": ".py",
   "mimetype": "text/x-python",
   "name": "python",
   "nbconvert_exporter": "python",
   "pygments_lexer": "ipython3",
   "version": "3.8.3"
  }
 },
 "nbformat": 4,
 "nbformat_minor": 4
}
