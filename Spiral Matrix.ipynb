{
 "cells": [
  {
   "cell_type": "code",
   "execution_count": 53,
   "metadata": {},
   "outputs": [
    {
     "name": "stdout",
     "output_type": "stream",
     "text": [
      "3 3\n"
     ]
    }
   ],
   "source": [
    "matrix = [[1,2,3],\n",
    "          [4,5,6],\n",
    "          [7,8,9]]\n",
    "m=len(matrix)\n",
    "n = len(matrix[0])\n",
    "print(m,n)"
   ]
  },
  {
   "cell_type": "code",
   "execution_count": 54,
   "metadata": {},
   "outputs": [],
   "source": [
    "cur_row=0\n",
    "cur_col=0\n",
    "cur_c=0\n",
    "cur_r=0\n",
    "result=[]\n",
    "data=[]"
   ]
  },
  {
   "cell_type": "code",
   "execution_count": 70,
   "metadata": {},
   "outputs": [],
   "source": [
    "if matrix == None or matrix == []:\n",
    "            return matrix\n",
    "        else:\n",
    "            #no of rows\n",
    "            m = len(matrix)\n",
    "            #no of columns\n",
    "            n = len(matrix[0])\n",
    "            #starting row\n",
    "            k = 0\n",
    "            #starting column\n",
    "            l = 0\n",
    "\n",
    "            #spiral order matrix\n",
    "            spiral = []\n",
    "\n",
    "            while k < m and l < n:\n",
    "                #print the first row from the remaining rows\n",
    "                for i in range(l, n):\n",
    "                    spiral.append(matrix[k][i])\n",
    "                k += 1\n",
    "\n",
    "                #print the last column from the remaining columns\n",
    "                for i in range(k, m):\n",
    "                    spiral.append(matrix[i][n-1])\n",
    "                n-= 1\n",
    "\n",
    "                #print the last row from the remaining rows\n",
    "                if k < m:\n",
    "                    for i in range(n-1, l-1, -1):\n",
    "                        spiral.append(matrix[m-1][i])\n",
    "\n",
    "                    m -= 1\n",
    "\n",
    "                #print the first column from the remaining columns\n",
    "                if l < n:\n",
    "                    for i in range(m-1, k-1, -1):\n",
    "                        spiral.append(matrix[i][l])\n",
    "\n",
    "                    l += 1\n",
    "\n",
    "            return spiral"
   ]
  },
  {
   "cell_type": "code",
   "execution_count": 71,
   "metadata": {},
   "outputs": [
    {
     "data": {
      "text/plain": [
       "[1, 2, 3, 6, 9]"
      ]
     },
     "execution_count": 71,
     "metadata": {},
     "output_type": "execute_result"
    }
   ],
   "source": [
    "result"
   ]
  },
  {
   "cell_type": "code",
   "execution_count": 72,
   "metadata": {},
   "outputs": [
    {
     "data": {
      "text/plain": [
       "[7, 8, 9, 7, 8, 9, 7, 8, 9]"
      ]
     },
     "execution_count": 72,
     "metadata": {},
     "output_type": "execute_result"
    }
   ],
   "source": [
    "data"
   ]
  },
  {
   "cell_type": "code",
   "execution_count": null,
   "metadata": {},
   "outputs": [],
   "source": []
  },
  {
   "cell_type": "code",
   "execution_count": null,
   "metadata": {},
   "outputs": [],
   "source": []
  }
 ],
 "metadata": {
  "kernelspec": {
   "display_name": "Python 3",
   "language": "python",
   "name": "python3"
  },
  "language_info": {
   "codemirror_mode": {
    "name": "ipython",
    "version": 3
   },
   "file_extension": ".py",
   "mimetype": "text/x-python",
   "name": "python",
   "nbconvert_exporter": "python",
   "pygments_lexer": "ipython3",
   "version": "3.8.3"
  }
 },
 "nbformat": 4,
 "nbformat_minor": 4
}
