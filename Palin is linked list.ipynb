{
 "cells": [
  {
   "cell_type": "code",
   "execution_count": null,
   "metadata": {},
   "outputs": [],
   "source": [
    "class ListNode:\n",
    "   def __init__(self, data, next = None):\n",
    "      self.val = data\n",
    "      self.next = next\n",
    "def make_list(elements):\n",
    "   head = ListNode(elements[0])\n",
    "   for element in elements[1:]:\n",
    "      ptr = head\n",
    "      while ptr.next:\n",
    "         ptr = ptr.next\n",
    "      ptr.next = ListNode(element)\n",
    "   return head\n",
    "def print_list(head):\n",
    "   ptr = head\n",
    "   print('[', end = \"\")\n",
    "   while ptr:\n",
    "      print(ptr.val, end = \", \")\n",
    "      ptr = ptr.next\n",
    "   print(']')\n",
    "class Solution(object):\n",
    "   def oddEvenList(self, head):\n",
    "      if head == None or head.next ==None:\n",
    "         return head\n",
    "      head1=head\n",
    "      head2,head2_beg= head.next,head.next\n",
    "      while head2.next!= None and head2.next.next!= None:\n",
    "         head1.next = head2.next\n",
    "         head2.next = head2.next.next\n",
    "         head1 = head1.next\n",
    "         head2 = head2.next\n",
    "      if head2.next!=None:\n",
    "         head1.next = head2.next\n",
    "         head1 = head1.next\n",
    "      head1.next = head2_beg\n",
    "      head2.next = None\n",
    "      return head\n",
    "class Solution1(object):\n",
    "    def Palin(self, head):\n",
    "        head1=head\n",
    "        lis=[]\n",
    "        while head1:\n",
    "            lis.append(head1.val)\n",
    "            head1=head1.next\n",
    "        if len(lis)%2==0:\n",
    "            print(lis==lis[::-1])\n",
    "        elif len(lis)%2==1:\n",
    "            print(lis[:len(lis)//2+1]==lis[len(lis)//2:][::-1])\n",
    "ob1 = Solution1()\n",
    "head = make_list([1,2,2,1])\n",
    "print_list(ob1.Palin(head))"
   ]
  }
 ],
 "metadata": {
  "kernelspec": {
   "display_name": "Python 3",
   "language": "python",
   "name": "python3"
  },
  "language_info": {
   "codemirror_mode": {
    "name": "ipython",
    "version": 3
   },
   "file_extension": ".py",
   "mimetype": "text/x-python",
   "name": "python",
   "nbconvert_exporter": "python",
   "pygments_lexer": "ipython3",
   "version": "3.8.3"
  }
 },
 "nbformat": 4,
 "nbformat_minor": 4
}
