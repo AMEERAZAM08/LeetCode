{
 "cells": [
  {
   "cell_type": "code",
   "execution_count": 44,
   "metadata": {},
   "outputs": [
    {
     "name": "stdout",
     "output_type": "stream",
     "text": [
      "273\n"
     ]
    }
   ],
   "source": [
    "n = 824\n",
    "One_list=[]\n",
    "for i in range(1,n+1):\n",
    "    s=str(i)\n",
    "    One_list.append(s.count('1'))\n",
    "print(sum(One_list))\n",
    "    "
   ]
  },
  {
   "cell_type": "code",
   "execution_count": 46,
   "metadata": {},
   "outputs": [
    {
     "data": {
      "text/plain": [
       "273"
      ]
     },
     "execution_count": 46,
     "metadata": {},
     "output_type": "execute_result"
    }
   ],
   "source": [
    "xyz=['a','b']\n",
    "a=['a']\n",
    "sum([str(x).count('1') for x in range(1,n+1) if '1' in str(x)])"
   ]
  },
  {
   "cell_type": "code",
   "execution_count": 47,
   "metadata": {},
   "outputs": [],
   "source": [
    "class Solution:\n",
    "    def my10Log(self, x):\n",
    "        assert(x >= 1)\n",
    "        exponent = 0\n",
    "        lower_bound = 1\n",
    "        \n",
    "        while(lower_bound*10 <= x):\n",
    "            exponent += 1\n",
    "            lower_bound *= 10\n",
    "        \n",
    "        return exponent\n",
    "\n",
    "    def countDigitOne(self, n: int) -> int:\n",
    "        if n < 10: return 1 if n >= 1 else 0\n",
    "        \n",
    "        head = int(str(n)[0])\n",
    "        base = 10 ** self.my10Log(n)\n",
    "        tail = n - head * base\n",
    "        \n",
    "        numberOfOnes = self.countDigitOne(tail)\n",
    "\n",
    "        if head == 0:\n",
    "            return numberOfOnes\n",
    "\n",
    "        if head == 1:\n",
    "            numberOfOnes += tail + 1\n",
    "\n",
    "        if head >= 2:\n",
    "            numberOfOnes += base\n",
    "        \n",
    "        numberOfOnes += head * self.countDigitOne(base - 1)\n",
    "        return numberOfOnes"
   ]
  },
  {
   "cell_type": "code",
   "execution_count": null,
   "metadata": {},
   "outputs": [],
   "source": []
  }
 ],
 "metadata": {
  "kernelspec": {
   "display_name": "Python 3",
   "language": "python",
   "name": "python3"
  },
  "language_info": {
   "codemirror_mode": {
    "name": "ipython",
    "version": 3
   },
   "file_extension": ".py",
   "mimetype": "text/x-python",
   "name": "python",
   "nbconvert_exporter": "python",
   "pygments_lexer": "ipython3",
   "version": "3.8.3"
  }
 },
 "nbformat": 4,
 "nbformat_minor": 4
}
