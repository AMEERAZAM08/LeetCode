{
 "cells": [
  {
   "cell_type": "code",
   "execution_count": 117,
   "metadata": {},
   "outputs": [],
   "source": [
    "mat = [[1,1,1,1],\n",
    "      [1,1,1,1],\n",
    "       [1,1,1,1],\n",
    "       [1,1,1,1]]\n",
    "m=len(mat)\n",
    "n=len(mat[0])\n",
    "new_mat=[]"
   ]
  },
  {
   "cell_type": "code",
   "execution_count": 118,
   "metadata": {},
   "outputs": [
    {
     "name": "stdout",
     "output_type": "stream",
     "text": [
      "8\n"
     ]
    }
   ],
   "source": [
    "sums=0\n",
    "for i in range(m):\n",
    "    for j in range(n):\n",
    "        if i==j:\n",
    "            sums+=mat[i][j]\n",
    "for i in range(m):\n",
    "    mat[i].reverse()\n",
    "\n",
    "for i in range(m):\n",
    "    for j in range(n):\n",
    "        if i==j:\n",
    "            sums+=mat[i][j]\n",
    "\n",
    "if (m*n)%2 ==0:\n",
    "    print(sums)\n",
    "else:\n",
    "    sums=sums-mat[m//2][n//2]\n",
    "    print(sums)"
   ]
  },
  {
   "cell_type": "code",
   "execution_count": null,
   "metadata": {},
   "outputs": [],
   "source": []
  },
  {
   "cell_type": "code",
   "execution_count": null,
   "metadata": {},
   "outputs": [],
   "source": []
  },
  {
   "cell_type": "code",
   "execution_count": null,
   "metadata": {},
   "outputs": [],
   "source": []
  }
 ],
 "metadata": {
  "kernelspec": {
   "display_name": "Python 3",
   "language": "python",
   "name": "python3"
  },
  "language_info": {
   "codemirror_mode": {
    "name": "ipython",
    "version": 3
   },
   "file_extension": ".py",
   "mimetype": "text/x-python",
   "name": "python",
   "nbconvert_exporter": "python",
   "pygments_lexer": "ipython3",
   "version": "3.8.3"
  }
 },
 "nbformat": 4,
 "nbformat_minor": 4
}
